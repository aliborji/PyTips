{
 "cells": [
  {
   "cell_type": "markdown",
   "metadata": {},
   "source": [
    "## Multiprocessing"
   ]
  },
  {
   "cell_type": "code",
   "execution_count": 1,
   "metadata": {},
   "outputs": [
    {
     "name": "stdout",
     "output_type": "stream",
     "text": [
      "Process (7841) start...\n",
      "I (7841) just created a child process (7852).\n",
      "I am child process (7852) and my parent is 7841.\n"
     ]
    }
   ],
   "source": [
    "import os\n",
    "\n",
    "print('Process (%s) start...' % os.getpid())\n",
    "# Only works on Unix/Linux/Mac:\n",
    "pid = os.fork()\n",
    "if pid == 0:\n",
    "    print('I am child process (%s) and my parent is %s.' % (os.getpid(), os.getppid()))\n",
    "else:\n",
    "    print('I (%s) just created a child process (%s).' % (os.getpid(), pid))"
   ]
  },
  {
   "cell_type": "code",
   "execution_count": 3,
   "metadata": {},
   "outputs": [
    {
     "name": "stdout",
     "output_type": "stream",
     "text": [
      "ID of main process: 7841\n",
      "ID of process running worker1: 7909\n",
      "ID of process running worker2: 7910\n",
      "ID of process p1: 7909\n",
      "ID of process p2: 7910\n",
      "Process p1 is alive: True\n",
      "Process p2 is alive: True\n",
      "Both processes finished execution!\n",
      "Process p1 is alive: False\n",
      "Process p2 is alive: False\n"
     ]
    }
   ],
   "source": [
    "# importing the multiprocessing module \n",
    "import multiprocessing \n",
    "import os \n",
    "  \n",
    "def worker1(): \n",
    "    # printing process id \n",
    "    print(\"ID of process running worker1: {}\".format(os.getpid())) \n",
    "  \n",
    "def worker2(): \n",
    "    # printing process id \n",
    "    print(\"ID of process running worker2: {}\".format(os.getpid())) \n",
    "  \n",
    "if __name__ == \"__main__\": \n",
    "    # printing main program process id \n",
    "    print(\"ID of main process: {}\".format(os.getpid())) \n",
    "  \n",
    "    # creating processes \n",
    "    p1 = multiprocessing.Process(target=worker1) \n",
    "    p2 = multiprocessing.Process(target=worker2) \n",
    "  \n",
    "    # starting processes \n",
    "    p1.start() \n",
    "    p2.start() \n",
    "  \n",
    "    # process IDs \n",
    "    print(\"ID of process p1: {}\".format(p1.pid)) \n",
    "    print(\"ID of process p2: {}\".format(p2.pid)) \n",
    "    \n",
    "        # check if processes are alive \n",
    "    print(\"Process p1 is alive: {}\".format(p1.is_alive())) \n",
    "    print(\"Process p2 is alive: {}\".format(p2.is_alive()))\n",
    "  \n",
    "    # wait until processes are finished \n",
    "    p1.join() \n",
    "    p2.join() \n",
    "  \n",
    "    # both processes finished \n",
    "    print(\"Both processes finished execution!\") \n",
    "  \n",
    "    # check if processes are alive \n",
    "    print(\"Process p1 is alive: {}\".format(p1.is_alive())) \n",
    "    print(\"Process p2 is alive: {}\".format(p2.is_alive())) "
   ]
  },
  {
   "cell_type": "markdown",
   "metadata": {},
   "source": [
    "In multiprocessing, workers\n",
    "- run independently\n",
    "- have their own memory space"
   ]
  },
  {
   "cell_type": "code",
   "execution_count": 6,
   "metadata": {},
   "outputs": [
    {
     "name": "stdout",
     "output_type": "stream",
     "text": [
      "Result(in process p1): [1, 4, 9, 16]\n",
      "Result(in main program): []\n"
     ]
    }
   ],
   "source": [
    "import multiprocessing\n",
    "\n",
    "result = []\n",
    "\n",
    "def square_list(mylist): \n",
    "    \"\"\" \n",
    "    function to square a given list \n",
    "    \"\"\"\n",
    "    global result \n",
    "    # append squares of mylist to global list result \n",
    "    for num in mylist: \n",
    "        result.append(num * num) \n",
    "    # print global list result \n",
    "    print(\"Result(in process p1): {}\".format(result))\n",
    "\n",
    "l=[1,2,3,4]\n",
    "p1 = multiprocessing.Process(target=square_list, args=(l,))\n",
    "p1.start()\n",
    "p1.join()\n",
    "\n",
    "# print global result list \n",
    "print(\"Result(in main program): {}\".format(result))  # cannot directly access the data in subprocess"
   ]
  },
  {
   "cell_type": "markdown",
   "metadata": {},
   "source": [
    "## Solution 1: share memory\n",
    "- `Array`: a ctypes array allocated from **shared memory**\n",
    "- `Value`: a ctypes object allocated from **shared memory**"
   ]
  },
  {
   "cell_type": "code",
   "execution_count": 18,
   "metadata": {},
   "outputs": [
    {
     "name": "stdout",
     "output_type": "stream",
     "text": [
      "Result(in process p1): [1, 4, 9, 16]\n",
      "Sum of squares(in process p1): 30\n",
      "Result(in main program): [1, 4, 9, 16]\n",
      "Sum of squares(in main program): 30\n"
     ]
    }
   ],
   "source": [
    "import multiprocessing\n",
    "\n",
    "def square_list(mylist, result, square_sum): \n",
    "    \"\"\" \n",
    "    function to square a given list \n",
    "    \"\"\"\n",
    "    # append squares of mylist to result array \n",
    "    for idx, num in enumerate(mylist): \n",
    "        result[idx] = num * num \n",
    "    \n",
    "    # square sum value\n",
    "    square_sum.value = sum(result)\n",
    "    print(\"Result(in process p1): {}\".format(result[:])) \n",
    "    # print square_sum Value \n",
    "    print(\"Sum of squares(in process p1): {}\".format(square_sum.value))\n",
    "    \n",
    "l = [1,2,3,4]\n",
    "\n",
    "result_array = multiprocessing.Array('i', 4) # create array of int with 4 integers\n",
    "square_sum_value = multiprocessing.Value('i')\n",
    "\n",
    "p1 = multiprocessing.Process(target=square_list, args=(l, result_array, square_sum_value))\n",
    "\n",
    "p1.start()\n",
    "p1.join()\n",
    "\n",
    "# print result array \n",
    "print(\"Result(in main program): {}\".format(result_array[:])) \n",
    "  \n",
    "# print square_sum Value \n",
    "print(\"Sum of squares(in main program): {}\".format(square_sum_value.value)) "
   ]
  },
  {
   "cell_type": "markdown",
   "metadata": {},
   "source": [
    "## Solution 2: server process\n",
    "Use `multiprocessing.Manager`\n",
    "- support arbitrary object types like lists, dictionaries, Queue, Value, Array, etc.\n",
    "- slower than shared memory"
   ]
  },
  {
   "cell_type": "code",
   "execution_count": 20,
   "metadata": {},
   "outputs": [
    {
     "name": "stdout",
     "output_type": "stream",
     "text": [
      "New record added!\n",
      "\n",
      "Name: a\n",
      "Score: 10\n",
      "\n",
      "Name: b\n",
      "Score: 9\n",
      "\n",
      "Name: k\n",
      "Score: 8\n",
      "\n",
      "Name: J\n",
      "Score: 7\n",
      "\n"
     ]
    }
   ],
   "source": [
    "import multiprocessing \n",
    "  \n",
    "def print_records(records): \n",
    "    \"\"\" \n",
    "    function to print record(tuples) in records(list) \n",
    "    \"\"\"\n",
    "    for record in records: \n",
    "        print(\"Name: {0}\\nScore: {1}\\n\".format(record[0], record[1]))\n",
    "\n",
    "def insert_record(record, records): \n",
    "    \"\"\" \n",
    "    function to add a new record to records(list) \n",
    "    \"\"\"\n",
    "    records.append(record) \n",
    "    print(\"New record added!\\n\")\n",
    "\n",
    "with multiprocessing.Manager() as manager:\n",
    "    # creating a list in server process memory \n",
    "    records = manager.list([('a',10), ('b',9), ('k',8)])\n",
    "    new_record = (\"J\", 7)\n",
    "    p1 = multiprocessing.Process(target=insert_record, args=(new_record, records))\n",
    "    p2 = multiprocessing.Process(target=print_records, args=(records,))\n",
    "    \n",
    "    p1.start()\n",
    "    p1.join()\n",
    "    \n",
    "    p2.start()\n",
    "    p2.join()"
   ]
  },
  {
   "cell_type": "code",
   "execution_count": null,
   "metadata": {},
   "outputs": [],
   "source": []
  }
 ],
 "metadata": {
  "kernelspec": {
   "display_name": "Python 3",
   "language": "python",
   "name": "python3"
  },
  "language_info": {
   "codemirror_mode": {
    "name": "ipython",
    "version": 3
   },
   "file_extension": ".py",
   "mimetype": "text/x-python",
   "name": "python",
   "nbconvert_exporter": "python",
   "pygments_lexer": "ipython3",
   "version": "3.6.7"
  },
  "varInspector": {
   "cols": {
    "lenName": 16,
    "lenType": 16,
    "lenVar": 40
   },
   "kernels_config": {
    "python": {
     "delete_cmd_postfix": "",
     "delete_cmd_prefix": "del ",
     "library": "var_list.py",
     "varRefreshCmd": "print(var_dic_list())"
    },
    "r": {
     "delete_cmd_postfix": ") ",
     "delete_cmd_prefix": "rm(",
     "library": "var_list.r",
     "varRefreshCmd": "cat(var_dic_list()) "
    }
   },
   "types_to_exclude": [
    "module",
    "function",
    "builtin_function_or_method",
    "instance",
    "_Feature"
   ],
   "window_display": false
  }
 },
 "nbformat": 4,
 "nbformat_minor": 2
}
