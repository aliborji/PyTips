{
 "cells": [
  {
   "cell_type": "markdown",
   "metadata": {},
   "source": [
    "## Multiprocessing"
   ]
  },
  {
   "cell_type": "code",
   "execution_count": 1,
   "metadata": {},
   "outputs": [
    {
     "name": "stdout",
     "output_type": "stream",
     "text": [
      "Process (7841) start...\n",
      "I (7841) just created a child process (7852).\n",
      "I am child process (7852) and my parent is 7841.\n"
     ]
    }
   ],
   "source": [
    "import os\n",
    "\n",
    "print('Process (%s) start...' % os.getpid())\n",
    "# Only works on Unix/Linux/Mac:\n",
    "pid = os.fork()\n",
    "if pid == 0:\n",
    "    print('I am child process (%s) and my parent is %s.' % (os.getpid(), os.getppid()))\n",
    "else:\n",
    "    print('I (%s) just created a child process (%s).' % (os.getpid(), pid))"
   ]
  },
  {
   "cell_type": "code",
   "execution_count": 3,
   "metadata": {},
   "outputs": [
    {
     "name": "stdout",
     "output_type": "stream",
     "text": [
      "ID of main process: 7841\n",
      "ID of process running worker1: 7909\n",
      "ID of process running worker2: 7910\n",
      "ID of process p1: 7909\n",
      "ID of process p2: 7910\n",
      "Process p1 is alive: True\n",
      "Process p2 is alive: True\n",
      "Both processes finished execution!\n",
      "Process p1 is alive: False\n",
      "Process p2 is alive: False\n"
     ]
    }
   ],
   "source": [
    "# importing the multiprocessing module \n",
    "import multiprocessing \n",
    "import os \n",
    "  \n",
    "def worker1(): \n",
    "    # printing process id \n",
    "    print(\"ID of process running worker1: {}\".format(os.getpid())) \n",
    "  \n",
    "def worker2(): \n",
    "    # printing process id \n",
    "    print(\"ID of process running worker2: {}\".format(os.getpid())) \n",
    "  \n",
    "if __name__ == \"__main__\": \n",
    "    # printing main program process id \n",
    "    print(\"ID of main process: {}\".format(os.getpid())) \n",
    "  \n",
    "    # creating processes \n",
    "    p1 = multiprocessing.Process(target=worker1) \n",
    "    p2 = multiprocessing.Process(target=worker2) \n",
    "  \n",
    "    # starting processes \n",
    "    p1.start() \n",
    "    p2.start() \n",
    "  \n",
    "    # process IDs \n",
    "    print(\"ID of process p1: {}\".format(p1.pid)) \n",
    "    print(\"ID of process p2: {}\".format(p2.pid)) \n",
    "    \n",
    "        # check if processes are alive \n",
    "    print(\"Process p1 is alive: {}\".format(p1.is_alive())) \n",
    "    print(\"Process p2 is alive: {}\".format(p2.is_alive()))\n",
    "  \n",
    "    # wait until processes are finished \n",
    "    p1.join() \n",
    "    p2.join() \n",
    "  \n",
    "    # both processes finished \n",
    "    print(\"Both processes finished execution!\") \n",
    "  \n",
    "    # check if processes are alive \n",
    "    print(\"Process p1 is alive: {}\".format(p1.is_alive())) \n",
    "    print(\"Process p2 is alive: {}\".format(p2.is_alive())) "
   ]
  },
  {
   "cell_type": "markdown",
   "metadata": {},
   "source": [
    "In multiprocessing, workers\n",
    "- run independently\n",
    "- have their own memory space"
   ]
  },
  {
   "cell_type": "code",
   "execution_count": 6,
   "metadata": {},
   "outputs": [
    {
     "name": "stdout",
     "output_type": "stream",
     "text": [
      "Result(in process p1): [1, 4, 9, 16]\n",
      "Result(in main program): []\n"
     ]
    }
   ],
   "source": [
    "import multiprocessing\n",
    "\n",
    "result = []\n",
    "\n",
    "def square_list(mylist): \n",
    "    \"\"\" \n",
    "    function to square a given list \n",
    "    \"\"\"\n",
    "    global result \n",
    "    # append squares of mylist to global list result \n",
    "    for num in mylist: \n",
    "        result.append(num * num) \n",
    "    # print global list result \n",
    "    print(\"Result(in process p1): {}\".format(result))\n",
    "\n",
    "l=[1,2,3,4]\n",
    "p1 = multiprocessing.Process(target=square_list, args=(l,))\n",
    "p1.start()\n",
    "p1.join()\n",
    "\n",
    "# print global result list \n",
    "print(\"Result(in main program): {}\".format(result))  # cannot directly access the data in subprocess"
   ]
  },
  {
   "cell_type": "markdown",
   "metadata": {},
   "source": [
    "## Solution 1: share memory\n",
    "- `Array`: a ctypes array allocated from **shared memory**\n",
    "- `Value`: a ctypes object allocated from **shared memory**"
   ]
  },
  {
   "cell_type": "code",
   "execution_count": 18,
   "metadata": {},
   "outputs": [
    {
     "name": "stdout",
     "output_type": "stream",
     "text": [
      "Result(in process p1): [1, 4, 9, 16]\n",
      "Sum of squares(in process p1): 30\n",
      "Result(in main program): [1, 4, 9, 16]\n",
      "Sum of squares(in main program): 30\n"
     ]
    }
   ],
   "source": [
    "import multiprocessing\n",
    "\n",
    "def square_list(mylist, result, square_sum): \n",
    "    \"\"\" \n",
    "    function to square a given list \n",
    "    \"\"\"\n",
    "    # append squares of mylist to result array \n",
    "    for idx, num in enumerate(mylist): \n",
    "        result[idx] = num * num \n",
    "    \n",
    "    # square sum value\n",
    "    square_sum.value = sum(result)\n",
    "    print(\"Result(in process p1): {}\".format(result[:])) \n",
    "    # print square_sum Value \n",
    "    print(\"Sum of squares(in process p1): {}\".format(square_sum.value))\n",
    "    \n",
    "l = [1,2,3,4]\n",
    "\n",
    "result_array = multiprocessing.Array('i', 4) # create array of int with 4 integers\n",
    "square_sum_value = multiprocessing.Value('i')\n",
    "\n",
    "p1 = multiprocessing.Process(target=square_list, args=(l, result_array, square_sum_value))\n",
    "\n",
    "p1.start()\n",
    "p1.join()\n",
    "\n",
    "# print result array \n",
    "print(\"Result(in main program): {}\".format(result_array[:])) \n",
    "  \n",
    "# print square_sum Value \n",
    "print(\"Sum of squares(in main program): {}\".format(square_sum_value.value)) "
   ]
  },
  {
   "cell_type": "markdown",
   "metadata": {},
   "source": [
    "## Solution 2: server process\n",
    "Use `multiprocessing.Manager`\n",
    "- support arbitrary object types like lists, dictionaries, Queue, Value, Array, etc.\n",
    "- slower than shared memory"
   ]
  },
  {
   "cell_type": "code",
   "execution_count": 20,
   "metadata": {},
   "outputs": [
    {
     "name": "stdout",
     "output_type": "stream",
     "text": [
      "New record added!\n",
      "\n",
      "Name: a\n",
      "Score: 10\n",
      "\n",
      "Name: b\n",
      "Score: 9\n",
      "\n",
      "Name: k\n",
      "Score: 8\n",
      "\n",
      "Name: J\n",
      "Score: 7\n",
      "\n"
     ]
    }
   ],
   "source": [
    "import multiprocessing \n",
    "  \n",
    "def print_records(records): \n",
    "    \"\"\" \n",
    "    function to print record(tuples) in records(list) \n",
    "    \"\"\"\n",
    "    for record in records: \n",
    "        print(\"Name: {0}\\nScore: {1}\\n\".format(record[0], record[1]))\n",
    "\n",
    "def insert_record(record, records): \n",
    "    \"\"\" \n",
    "    function to add a new record to records(list) \n",
    "    \"\"\"\n",
    "    records.append(record) \n",
    "    print(\"New record added!\\n\")\n",
    "\n",
    "with multiprocessing.Manager() as manager:\n",
    "    # creating a list in server process memory \n",
    "    records = manager.list([('a',10), ('b',9), ('k',8)])\n",
    "    new_record = (\"J\", 7)\n",
    "    p1 = multiprocessing.Process(target=insert_record, args=(new_record, records))\n",
    "    p2 = multiprocessing.Process(target=print_records, args=(records,))\n",
    "    \n",
    "    p1.start()\n",
    "    p1.join()\n",
    "    \n",
    "    p2.start()\n",
    "    p2.join()"
   ]
  },
  {
   "cell_type": "markdown",
   "metadata": {},
   "source": [
    "`multiprocessing` supports two kinds of communication channel between processes\n",
    "- Queue\n",
    "- Pipe\n",
    "\n",
    "### 1. Queue\n",
    "- A simple way to communicate between processes with `multiprocessing` is to use a `Queue` to pass mesasges. \n",
    "- **Any python oject** can pass through a queue\n",
    "- `multiprocessing.Queue` class is a near clone of `queue.Queue`"
   ]
  },
  {
   "cell_type": "code",
   "execution_count": 24,
   "metadata": {},
   "outputs": [
    {
     "name": "stdout",
     "output_type": "stream",
     "text": [
      "Queue elements:\n",
      "1\n",
      "4\n",
      "9\n",
      "16\n",
      "Queue is now empty!\n"
     ]
    }
   ],
   "source": [
    "import multiprocessing \n",
    "  \n",
    "def square_list(mylist, q): \n",
    "    \"\"\" \n",
    "    function to square a given list \n",
    "    \"\"\"\n",
    "    # append squares of mylist to queue \n",
    "    for num in mylist: \n",
    "        q.put(num * num) \n",
    "\n",
    "def print_queue(q): \n",
    "    \"\"\" \n",
    "    function to print queue elements \n",
    "    \"\"\"\n",
    "    print(\"Queue elements:\") \n",
    "    while not q.empty(): \n",
    "        print(q.get()) \n",
    "    print(\"Queue is now empty!\")\n",
    "\n",
    "l = [1,2,3,4]\n",
    "q = multiprocessing.Queue()\n",
    "\n",
    "p1 = multiprocessing.Process(target=square_list, args=(l, q))\n",
    "p2 = multiprocessing.Process(target=print_queue, args=(q,))\n",
    "\n",
    "for p in [p1,p2]:\n",
    "    p.start()\n",
    "    p.join()"
   ]
  },
  {
   "cell_type": "markdown",
   "metadata": {},
   "source": [
    "### 2. Pipes\n",
    "- it is preferred over queue when only two-way communication is required.\n",
    "- The two connection objects returned by `Pipe()` represent the two ends of the pipe. \n",
    "- Each connection object has `send()` and `recv()` methods (among others)."
   ]
  },
  {
   "cell_type": "code",
   "execution_count": 25,
   "metadata": {},
   "outputs": [
    {
     "name": "stdout",
     "output_type": "stream",
     "text": [
      "Sent the message: hello\n",
      "Sent the message: hey\n",
      "Sent the message: hru?\n",
      "Sent the message: END\n",
      "Received the message: hello\n",
      "Received the message: hey\n",
      "Received the message: hru?\n"
     ]
    }
   ],
   "source": [
    "import multiprocessing\n",
    "\n",
    "import multiprocessing \n",
    "  \n",
    "def sender(conn, msgs): \n",
    "    \"\"\" \n",
    "    function to send messages to other end of pipe \n",
    "    \"\"\"\n",
    "    for msg in msgs: \n",
    "        conn.send(msg) \n",
    "        print(\"Sent the message: {}\".format(msg)) \n",
    "    conn.close() \n",
    "\n",
    "def receiver(conn): \n",
    "    \"\"\" \n",
    "    function to print the messages received from other \n",
    "    end of pipe \n",
    "    \"\"\"\n",
    "    while 1: \n",
    "        msg = conn.recv() \n",
    "        if msg == \"END\": \n",
    "            break\n",
    "        print(\"Received the message: {}\".format(msg)) \n",
    "        \n",
    "# messages to be sent \n",
    "msgs = [\"hello\", \"hey\", \"hru?\", \"END\"] \n",
    "# creating a pipe \n",
    "parent_conn, child_conn = multiprocessing.Pipe()\n",
    "\n",
    "# creating new processes\n",
    "p1 = multiprocessing.Process(target=sender, args=(parent_conn, msgs))\n",
    "p2 = multiprocessing.Process(target=receiver, args=(child_conn,))\n",
    "\n",
    "for p in [p1,p2]:\n",
    "    p.start()\n",
    "    p.join()"
   ]
  },
  {
   "cell_type": "markdown",
   "metadata": {},
   "source": [
    "## Synchronization between processes\n",
    "- `Process synchronization` is defined as a mechanism which ensures that two or more concurrent processes do not simultaneously execute some particular program segment known as critical section.\n",
    "- Critical section refers to *the parts of the program where the shared resource is accessed.*\n",
    "- Concurrent accesses to shared resource can lead to **race condition**.\n"
   ]
  },
  {
   "cell_type": "code",
   "execution_count": 26,
   "metadata": {},
   "outputs": [
    {
     "name": "stdout",
     "output_type": "stream",
     "text": [
      "Final balance = 7123\n",
      "Final balance = 5065\n",
      "Final balance = 4629\n",
      "Final balance = 3715\n",
      "Final balance = -1459\n",
      "Final balance = -1748\n",
      "Final balance = 914\n",
      "Final balance = 2484\n",
      "Final balance = -456\n",
      "Final balance = 1126\n"
     ]
    }
   ],
   "source": [
    "# race condition\n",
    "import multiprocessing \n",
    "  \n",
    "# function to withdraw from account \n",
    "def withdraw(balance):     \n",
    "    for _ in range(10000): \n",
    "        balance.value = balance.value - 1\n",
    "\n",
    "# function to deposit to account \n",
    "def deposit(balance):     \n",
    "    for _ in range(10000): \n",
    "        balance.value = balance.value + 1\n",
    "\n",
    "        \n",
    "def perform_transactions():   \n",
    "    # initial balance (in shared memory) \n",
    "    balance = multiprocessing.Value('i', 100) \n",
    "  \n",
    "    # creating new processes \n",
    "    p1 = multiprocessing.Process(target=withdraw, args=(balance,)) \n",
    "    p2 = multiprocessing.Process(target=deposit, args=(balance,)) \n",
    "  \n",
    "    # starting processes \n",
    "    p1.start() \n",
    "    p2.start() \n",
    "  \n",
    "    # wait until processes are finished \n",
    "    p1.join() \n",
    "    p2.join() \n",
    "  \n",
    "    # print final balance \n",
    "    print(\"Final balance = {}\".format(balance.value)) \n",
    "\n",
    "# race condition\n",
    "for _ in range(10): \n",
    "    # perform same transaction process 10 times \n",
    "    perform_transactions() "
   ]
  },
  {
   "cell_type": "markdown",
   "metadata": {},
   "source": [
    "- `multiprocessing` module provides a `Lock` class to deal with the race conditions. Lock is implemented using a `Semaphore` object provided by the Operating System.\n",
    "- As soon as a lock is acquired, no other process can access its critical section until the lock is released using `lock.release()` method."
   ]
  },
  {
   "cell_type": "code",
   "execution_count": 27,
   "metadata": {},
   "outputs": [
    {
     "name": "stdout",
     "output_type": "stream",
     "text": [
      "Final balance = 100\n",
      "Final balance = 100\n",
      "Final balance = 100\n",
      "Final balance = 100\n",
      "Final balance = 100\n",
      "Final balance = 100\n",
      "Final balance = 100\n",
      "Final balance = 100\n",
      "Final balance = 100\n",
      "Final balance = 100\n"
     ]
    }
   ],
   "source": [
    "# deal with race condition, use LOCK()\n",
    "import multiprocessing \n",
    "  \n",
    "# function to withdraw from account \n",
    "def withdraw(balance, lock):     \n",
    "    for _ in range(10000):\n",
    "        lock.acquire()\n",
    "        balance.value = balance.value - 1\n",
    "        lock.release()\n",
    "        \n",
    "# function to deposit to account \n",
    "def deposit(balance, lock):     \n",
    "    for _ in range(10000):\n",
    "        lock.acquire()\n",
    "        balance.value = balance.value + 1\n",
    "        lock.release()\n",
    "        \n",
    "def perform_transactions():   \n",
    "    # initial balance (in shared memory) \n",
    "    balance = multiprocessing.Value('i', 100) \n",
    "    \n",
    "    lock = multiprocessing.Lock() # creating a lock object \n",
    "    \n",
    "    # creating new processes \n",
    "    p1 = multiprocessing.Process(target=withdraw, args=(balance,lock)) \n",
    "    p2 = multiprocessing.Process(target=deposit, args=(balance,lock)) \n",
    "  \n",
    "    # starting processes \n",
    "    p1.start() \n",
    "    p2.start() \n",
    "  \n",
    "    # wait until processes are finished \n",
    "    p1.join() \n",
    "    p2.join() \n",
    "  \n",
    "    # print final balance \n",
    "    print(\"Final balance = {}\".format(balance.value)) \n",
    "\n",
    "# race condition\n",
    "for _ in range(10): \n",
    "    # perform same transaction process 10 times \n",
    "    perform_transactions() "
   ]
  },
  {
   "cell_type": "markdown",
   "metadata": {},
   "source": [
    "### Pooling between processes"
   ]
  },
  {
   "cell_type": "code",
   "execution_count": 28,
   "metadata": {},
   "outputs": [
    {
     "name": "stdout",
     "output_type": "stream",
     "text": [
      "Worker process id for 4: 21872\n",
      "Worker process id for 1: 21869\n",
      "Worker process id for 2: 21870\n",
      "Worker process id for 3: 21871\n",
      "[1, 4, 9, 16]\n"
     ]
    }
   ],
   "source": [
    "# Python program to understand  \n",
    "# the concept of pool \n",
    "import multiprocessing \n",
    "import os \n",
    "  \n",
    "def square(n): \n",
    "    print(\"Worker process id for {0}: {1}\".format(n, os.getpid())) \n",
    "    return (n*n)\n",
    "\n",
    "l = [1,2,3,4]\n",
    "p = multiprocessing.Pool()\n",
    "\n",
    "result = p.map(square, l)\n",
    "\n",
    "print(result)"
   ]
  },
  {
   "cell_type": "code",
   "execution_count": null,
   "metadata": {},
   "outputs": [],
   "source": []
  }
 ],
 "metadata": {
  "kernelspec": {
   "display_name": "Python 3",
   "language": "python",
   "name": "python3"
  },
  "language_info": {
   "codemirror_mode": {
    "name": "ipython",
    "version": 3
   },
   "file_extension": ".py",
   "mimetype": "text/x-python",
   "name": "python",
   "nbconvert_exporter": "python",
   "pygments_lexer": "ipython3",
   "version": "3.6.7"
  },
  "varInspector": {
   "cols": {
    "lenName": 16,
    "lenType": 16,
    "lenVar": 40
   },
   "kernels_config": {
    "python": {
     "delete_cmd_postfix": "",
     "delete_cmd_prefix": "del ",
     "library": "var_list.py",
     "varRefreshCmd": "print(var_dic_list())"
    },
    "r": {
     "delete_cmd_postfix": ") ",
     "delete_cmd_prefix": "rm(",
     "library": "var_list.r",
     "varRefreshCmd": "cat(var_dic_list()) "
    }
   },
   "types_to_exclude": [
    "module",
    "function",
    "builtin_function_or_method",
    "instance",
    "_Feature"
   ],
   "window_display": false
  }
 },
 "nbformat": 4,
 "nbformat_minor": 2
}
